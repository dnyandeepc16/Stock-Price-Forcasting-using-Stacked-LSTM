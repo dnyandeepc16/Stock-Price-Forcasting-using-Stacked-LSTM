{
 "cells": [
  {
   "cell_type": "markdown",
   "id": "e5e1cf0d",
   "metadata": {},
   "source": [
    "## Importing Libraries"
   ]
  },
  {
   "cell_type": "code",
   "execution_count": 1,
   "id": "83a8a315",
   "metadata": {},
   "outputs": [],
   "source": [
    "#!pip install pandas-datareader\n",
    "import pandas_datareader as pdr\n",
    "import pandas as pd\n",
    "import matplotlib.pyplot as plt\n",
    "import numpy as np\n",
    "from sklearn.preprocessing import MinMaxScaler\n",
    "from sklearn.metrics import mean_squared_error, accuracy_score\n",
    "import tensorflow as tf\n",
    "from tensorflow.keras.models import Sequential\n",
    "from tensorflow.keras.layers import Dense\n",
    "from tensorflow.keras.layers import LSTM\n",
    "import math"
   ]
  },
  {
   "cell_type": "code",
   "execution_count": 2,
   "id": "9b2e5f42",
   "metadata": {},
   "outputs": [
    {
     "name": "stderr",
     "output_type": "stream",
     "text": [
      "C:\\Users\\Dnyandeep\\anaconda3\\lib\\site-packages\\pandas_datareader\\tiingo.py:234: FutureWarning: In a future version of pandas all arguments of concat except for the argument 'objs' will be keyword-only.\n",
      "  return pd.concat(dfs, self._concat_axis)\n"
     ]
    }
   ],
   "source": [
    "key = '8ab85204cc4ce8c7a6c14bffff1d2883fe14f9e9'\n",
    "df = pdr.get_data_tiingo('AAPL', api_key = key)"
   ]
  },
  {
   "cell_type": "code",
   "execution_count": 3,
   "id": "799437e8",
   "metadata": {},
   "outputs": [],
   "source": [
    "df.to_csv('AAPL.csv')"
   ]
  },
  {
   "cell_type": "code",
   "execution_count": 4,
   "id": "13e2c7f0",
   "metadata": {},
   "outputs": [],
   "source": [
    "df = pd.read_csv('AAPL.csv')"
   ]
  },
  {
   "cell_type": "code",
   "execution_count": 5,
   "id": "c739ab15",
   "metadata": {},
   "outputs": [
    {
     "data": {
      "text/html": [
       "<div>\n",
       "<style scoped>\n",
       "    .dataframe tbody tr th:only-of-type {\n",
       "        vertical-align: middle;\n",
       "    }\n",
       "\n",
       "    .dataframe tbody tr th {\n",
       "        vertical-align: top;\n",
       "    }\n",
       "\n",
       "    .dataframe thead th {\n",
       "        text-align: right;\n",
       "    }\n",
       "</style>\n",
       "<table border=\"1\" class=\"dataframe\">\n",
       "  <thead>\n",
       "    <tr style=\"text-align: right;\">\n",
       "      <th></th>\n",
       "      <th>symbol</th>\n",
       "      <th>date</th>\n",
       "      <th>close</th>\n",
       "      <th>high</th>\n",
       "      <th>low</th>\n",
       "      <th>open</th>\n",
       "      <th>volume</th>\n",
       "      <th>adjClose</th>\n",
       "      <th>adjHigh</th>\n",
       "      <th>adjLow</th>\n",
       "      <th>adjOpen</th>\n",
       "      <th>adjVolume</th>\n",
       "      <th>divCash</th>\n",
       "      <th>splitFactor</th>\n",
       "    </tr>\n",
       "  </thead>\n",
       "  <tbody>\n",
       "    <tr>\n",
       "      <th>0</th>\n",
       "      <td>AAPL</td>\n",
       "      <td>2017-07-19 00:00:00+00:00</td>\n",
       "      <td>151.02</td>\n",
       "      <td>151.42</td>\n",
       "      <td>149.95</td>\n",
       "      <td>150.48</td>\n",
       "      <td>20615419</td>\n",
       "      <td>35.734893</td>\n",
       "      <td>35.829543</td>\n",
       "      <td>35.481706</td>\n",
       "      <td>35.607116</td>\n",
       "      <td>82461676</td>\n",
       "      <td>0.0</td>\n",
       "      <td>1.0</td>\n",
       "    </tr>\n",
       "    <tr>\n",
       "      <th>1</th>\n",
       "      <td>AAPL</td>\n",
       "      <td>2017-07-20 00:00:00+00:00</td>\n",
       "      <td>150.34</td>\n",
       "      <td>151.74</td>\n",
       "      <td>150.19</td>\n",
       "      <td>151.50</td>\n",
       "      <td>17053326</td>\n",
       "      <td>35.573989</td>\n",
       "      <td>35.905262</td>\n",
       "      <td>35.538496</td>\n",
       "      <td>35.848473</td>\n",
       "      <td>68213304</td>\n",
       "      <td>0.0</td>\n",
       "      <td>1.0</td>\n",
       "    </tr>\n",
       "    <tr>\n",
       "      <th>2</th>\n",
       "      <td>AAPL</td>\n",
       "      <td>2017-07-21 00:00:00+00:00</td>\n",
       "      <td>150.27</td>\n",
       "      <td>150.44</td>\n",
       "      <td>148.88</td>\n",
       "      <td>149.99</td>\n",
       "      <td>24671002</td>\n",
       "      <td>35.557426</td>\n",
       "      <td>35.597652</td>\n",
       "      <td>35.228519</td>\n",
       "      <td>35.491171</td>\n",
       "      <td>98684008</td>\n",
       "      <td>0.0</td>\n",
       "      <td>1.0</td>\n",
       "    </tr>\n",
       "    <tr>\n",
       "      <th>3</th>\n",
       "      <td>AAPL</td>\n",
       "      <td>2017-07-24 00:00:00+00:00</td>\n",
       "      <td>152.09</td>\n",
       "      <td>152.44</td>\n",
       "      <td>149.90</td>\n",
       "      <td>150.58</td>\n",
       "      <td>21122730</td>\n",
       "      <td>35.988080</td>\n",
       "      <td>36.070899</td>\n",
       "      <td>35.469875</td>\n",
       "      <td>35.630779</td>\n",
       "      <td>84490920</td>\n",
       "      <td>0.0</td>\n",
       "      <td>1.0</td>\n",
       "    </tr>\n",
       "    <tr>\n",
       "      <th>4</th>\n",
       "      <td>AAPL</td>\n",
       "      <td>2017-07-25 00:00:00+00:00</td>\n",
       "      <td>152.74</td>\n",
       "      <td>153.84</td>\n",
       "      <td>151.80</td>\n",
       "      <td>151.80</td>\n",
       "      <td>18612649</td>\n",
       "      <td>36.141886</td>\n",
       "      <td>36.402172</td>\n",
       "      <td>35.919460</td>\n",
       "      <td>35.919460</td>\n",
       "      <td>74450596</td>\n",
       "      <td>0.0</td>\n",
       "      <td>1.0</td>\n",
       "    </tr>\n",
       "  </tbody>\n",
       "</table>\n",
       "</div>"
      ],
      "text/plain": [
       "  symbol                       date   close    high     low    open    volume  \\\n",
       "0   AAPL  2017-07-19 00:00:00+00:00  151.02  151.42  149.95  150.48  20615419   \n",
       "1   AAPL  2017-07-20 00:00:00+00:00  150.34  151.74  150.19  151.50  17053326   \n",
       "2   AAPL  2017-07-21 00:00:00+00:00  150.27  150.44  148.88  149.99  24671002   \n",
       "3   AAPL  2017-07-24 00:00:00+00:00  152.09  152.44  149.90  150.58  21122730   \n",
       "4   AAPL  2017-07-25 00:00:00+00:00  152.74  153.84  151.80  151.80  18612649   \n",
       "\n",
       "    adjClose    adjHigh     adjLow    adjOpen  adjVolume  divCash  splitFactor  \n",
       "0  35.734893  35.829543  35.481706  35.607116   82461676      0.0          1.0  \n",
       "1  35.573989  35.905262  35.538496  35.848473   68213304      0.0          1.0  \n",
       "2  35.557426  35.597652  35.228519  35.491171   98684008      0.0          1.0  \n",
       "3  35.988080  36.070899  35.469875  35.630779   84490920      0.0          1.0  \n",
       "4  36.141886  36.402172  35.919460  35.919460   74450596      0.0          1.0  "
      ]
     },
     "execution_count": 5,
     "metadata": {},
     "output_type": "execute_result"
    }
   ],
   "source": [
    "df.head()"
   ]
  },
  {
   "cell_type": "code",
   "execution_count": 6,
   "id": "efc79971",
   "metadata": {},
   "outputs": [],
   "source": [
    "df2 = df.reset_index()['close']"
   ]
  },
  {
   "cell_type": "code",
   "execution_count": 7,
   "id": "935c931b",
   "metadata": {},
   "outputs": [
    {
     "data": {
      "text/plain": [
       "(1257,)"
      ]
     },
     "execution_count": 7,
     "metadata": {},
     "output_type": "execute_result"
    }
   ],
   "source": [
    "df2.shape"
   ]
  },
  {
   "cell_type": "code",
   "execution_count": 8,
   "id": "c8e1eb0d",
   "metadata": {},
   "outputs": [
    {
     "data": {
      "image/png": "[encoded data removed]",
      "text/plain": [
       "<Figure size 432x288 with 1 Axes>"
      ]
     },
     "metadata": {
      "needs_background": "light"
     },
     "output_type": "display_data"
    }
   ],
   "source": [
    "plt.plot(df2)\n",
    "plt.show()"
   ]
  },
  {
   "cell_type": "code",
   "execution_count": 9,
   "id": "bed1402b",
   "metadata": {},
   "outputs": [],
   "source": [
    "#Since, LSTM is sensitive to the scale of the data. We'll be applying MinMax scaler to it."
   ]
  },
  {
   "cell_type": "code",
   "execution_count": 10,
   "id": "25e27b47",
   "metadata": {},
   "outputs": [],
   "source": [
    "scaler = MinMaxScaler(feature_range= (0, 1))\n",
    "df2 = scaler.fit_transform(np.array(df2).reshape(-1, 1))"
   ]
  },
  {
   "cell_type": "code",
   "execution_count": 11,
   "id": "41eb68cb",
   "metadata": {},
   "outputs": [
    {
     "data": {
      "text/plain": [
       "(1257, 1)"
      ]
     },
     "execution_count": 11,
     "metadata": {},
     "output_type": "execute_result"
    }
   ],
   "source": [
    "df2.shape"
   ]
  },
  {
   "cell_type": "code",
   "execution_count": 12,
   "id": "b2ddfbe7",
   "metadata": {},
   "outputs": [
    {
     "data": {
      "text/plain": [
       "array([[0.11065748],\n",
       "       [0.10895429],\n",
       "       [0.10877896],\n",
       "       ...,\n",
       "       [0.09680651],\n",
       "       [0.10427051],\n",
       "       [0.10852849]])"
      ]
     },
     "execution_count": 12,
     "metadata": {},
     "output_type": "execute_result"
    }
   ],
   "source": [
    "df2"
   ]
  },
  {
   "cell_type": "markdown",
   "id": "1d7bb847",
   "metadata": {},
   "source": [
    "## Train, Test and Split"
   ]
  },
  {
   "cell_type": "code",
   "execution_count": 13,
   "id": "efedab3b",
   "metadata": {},
   "outputs": [],
   "source": [
    "training_size = int(len(df2)*0.65)\n",
    "test_size = len(df2) - training_size\n",
    "train_data, test_data = df2[0:training_size, :], df2[training_size: len(df2), :1]"
   ]
  },
  {
   "cell_type": "code",
   "execution_count": 14,
   "id": "b3bcce7c",
   "metadata": {},
   "outputs": [
    {
     "data": {
      "text/plain": [
       "((817, 1), (440, 1))"
      ]
     },
     "execution_count": 14,
     "metadata": {},
     "output_type": "execute_result"
    }
   ],
   "source": [
    "train_data.shape, test_data.shape"
   ]
  },
  {
   "cell_type": "code",
   "execution_count": 17,
   "id": "cfcf0034",
   "metadata": {},
   "outputs": [],
   "source": [
    "#Convert an array of values into a dataset matrix\n",
    "\n",
    "def create_dataset(dataset, time_step=1):\n",
    "\tdataX, dataY = [], []\n",
    "\tfor i in range(len(dataset)-time_step-1):\n",
    "\t\ta = dataset[i:(i+time_step), 0]   ###i=0, 0,1,2,3-----99   100 \n",
    "\t\tdataX.append(a)\n",
    "\t\tdataY.append(dataset[i + time_step, 0])\n",
    "\treturn np.array(dataX), np.array(dataY)"
   ]
  },
  {
   "cell_type": "code",
   "execution_count": 18,
   "id": "b0c919f7",
   "metadata": {},
   "outputs": [],
   "source": [
    "# Reshape into X = t, t+1, t+2, t+3 and Y = t+4\n",
    "time_step = 100\n",
    "X_train, y_train = create_dataset(train_data, time_step)\n",
    "X_test, y_test = create_dataset(test_data, time_step)"
   ]
  },
  {
   "cell_type": "code",
   "execution_count": 19,
   "id": "9ca1e0eb",
   "metadata": {},
   "outputs": [
    {
     "name": "stdout",
     "output_type": "stream",
     "text": [
      "[[0.11065748 0.10895429 0.10877896 ... 0.15729493 0.15571697 0.15649343]\n",
      " [0.10895429 0.10877896 0.11333751 ... 0.15571697 0.15649343 0.15661866]\n",
      " [0.10877896 0.11333751 0.11496556 ... 0.15649343 0.15661866 0.16488416]\n",
      " ...\n",
      " [0.51671885 0.53197245 0.52601127 ... 0.01582968 0.0206387  0.02036318]\n",
      " [0.53197245 0.52601127 0.53112085 ... 0.0206387  0.02036318 0.02537257]\n",
      " [0.52601127 0.53112085 0.52571071 ... 0.02036318 0.02537257 0.04398247]]\n"
     ]
    }
   ],
   "source": [
    "print(X_train)"
   ]
  },
  {
   "cell_type": "code",
   "execution_count": 20,
   "id": "2a0dd494",
   "metadata": {},
   "outputs": [],
   "source": [
    "#Reshape input to be [Samples, time steps, features] which is required for LSTM\n",
    "X_train = X_train.reshape(X_train.shape[0], X_train.shape[1], 1)\n",
    "X_test = X_test.reshape(X_test.shape[0], X_test.shape[1], 1)"
   ]
  },
  {
   "cell_type": "markdown",
   "id": "42855cb8",
   "metadata": {},
   "source": [
    "## Creating the LSTM Model"
   ]
  },
  {
   "cell_type": "code",
   "execution_count": 21,
   "id": "b8a0d4df",
   "metadata": {},
   "outputs": [],
   "source": [
    "model= Sequential()\n",
    "model.add(LSTM(50, return_sequences= True, input_shape = (100, 1)))\n",
    "model.add(LSTM(50, return_sequences= True))\n",
    "model.add((LSTM(50)))\n",
    "model.add(tf.keras.layers.Dense(1))\n",
    "model.compile(loss= 'mean_squared_error', optimizer= 'adam')"
   ]
  },
  {
   "cell_type": "code",
   "execution_count": 22,
   "id": "23fb7530",
   "metadata": {
    "scrolled": true
   },
   "outputs": [
    {
     "name": "stdout",
     "output_type": "stream",
     "text": [
      "Model: \"sequential\"\n",
      "_________________________________________________________________\n",
      " Layer (type)                Output Shape              Param #   \n",
      "=================================================================\n",
      " lstm (LSTM)                 (None, 100, 50)           10400     \n",
      "                                                                 \n",
      " lstm_1 (LSTM)               (None, 100, 50)           20200     \n",
      "                                                                 \n",
      " lstm_2 (LSTM)               (None, 50)                20200     \n",
      "                                                                 \n",
      " dense (Dense)               (None, 1)                 51        \n",
      "                                                                 \n",
      "=================================================================\n",
      "Total params: 50,851\n",
      "Trainable params: 50,851\n",
      "Non-trainable params: 0\n",
      "_________________________________________________________________\n"
     ]
    }
   ],
   "source": [
    "model.summary()"
   ]
  },
  {
   "cell_type": "code",
   "execution_count": 23,
   "id": "75290a3b",
   "metadata": {
    "scrolled": true
   },
   "outputs": [
    {
     "name": "stdout",
     "output_type": "stream",
     "text": [
      "Epoch 1/100\n",
      "12/12 [==============================] - 7s 195ms/step - loss: 0.0299 - val_loss: 8.4166e-04\n",
      "Epoch 2/100\n",
      "12/12 [==============================] - 1s 107ms/step - loss: 0.0130 - val_loss: 0.0083\n",
      "Epoch 3/100\n",
      "12/12 [==============================] - 1s 97ms/step - loss: 0.0111 - val_loss: 5.9396e-04\n",
      "Epoch 4/100\n",
      "12/12 [==============================] - 1s 95ms/step - loss: 0.0090 - val_loss: 2.7479e-04\n",
      "Epoch 5/100\n",
      "12/12 [==============================] - 1s 94ms/step - loss: 0.0084 - val_loss: 4.4837e-04\n",
      "Epoch 6/100\n",
      "12/12 [==============================] - 1s 95ms/step - loss: 0.0072 - val_loss: 8.5189e-04\n",
      "Epoch 7/100\n",
      "12/12 [==============================] - 1s 94ms/step - loss: 0.0068 - val_loss: 0.0015\n",
      "Epoch 8/100\n",
      "12/12 [==============================] - 1s 93ms/step - loss: 0.0068 - val_loss: 3.7982e-04\n",
      "Epoch 9/100\n",
      "12/12 [==============================] - 1s 95ms/step - loss: 0.0060 - val_loss: 4.7264e-04\n",
      "Epoch 10/100\n",
      "12/12 [==============================] - 1s 94ms/step - loss: 0.0065 - val_loss: 3.7198e-04\n",
      "Epoch 11/100\n",
      "12/12 [==============================] - 1s 93ms/step - loss: 0.0050 - val_loss: 7.4045e-04\n",
      "Epoch 12/100\n",
      "12/12 [==============================] - 1s 92ms/step - loss: 0.0041 - val_loss: 4.6872e-04\n",
      "Epoch 13/100\n",
      "12/12 [==============================] - 1s 93ms/step - loss: 0.0036 - val_loss: 8.2328e-04\n",
      "Epoch 14/100\n",
      "12/12 [==============================] - 1s 92ms/step - loss: 0.0034 - val_loss: 0.0010\n",
      "Epoch 15/100\n",
      "12/12 [==============================] - 1s 93ms/step - loss: 0.0031 - val_loss: 8.0700e-04\n",
      "Epoch 16/100\n",
      "12/12 [==============================] - 1s 93ms/step - loss: 0.0030 - val_loss: 6.6975e-04\n",
      "Epoch 17/100\n",
      "12/12 [==============================] - 1s 92ms/step - loss: 0.0029 - val_loss: 3.7735e-04\n",
      "Epoch 18/100\n",
      "12/12 [==============================] - 1s 91ms/step - loss: 0.0028 - val_loss: 3.2557e-04\n",
      "Epoch 19/100\n",
      "12/12 [==============================] - 1s 94ms/step - loss: 0.0029 - val_loss: 3.4452e-04\n",
      "Epoch 20/100\n",
      "12/12 [==============================] - 1s 93ms/step - loss: 0.0034 - val_loss: 3.5016e-04\n",
      "Epoch 21/100\n",
      "12/12 [==============================] - 1s 94ms/step - loss: 0.0039 - val_loss: 5.3081e-04\n",
      "Epoch 22/100\n",
      "12/12 [==============================] - 1s 94ms/step - loss: 0.0025 - val_loss: 4.4147e-04\n",
      "Epoch 23/100\n",
      "12/12 [==============================] - 1s 93ms/step - loss: 0.0026 - val_loss: 3.2999e-04\n",
      "Epoch 24/100\n",
      "12/12 [==============================] - 1s 93ms/step - loss: 0.0028 - val_loss: 2.4542e-04\n",
      "Epoch 25/100\n",
      "12/12 [==============================] - 1s 92ms/step - loss: 0.0031 - val_loss: 3.7901e-04\n",
      "Epoch 26/100\n",
      "12/12 [==============================] - 1s 92ms/step - loss: 0.0022 - val_loss: 2.3231e-04\n",
      "Epoch 27/100\n",
      "12/12 [==============================] - 1s 95ms/step - loss: 0.0019 - val_loss: 2.5620e-04\n",
      "Epoch 28/100\n",
      "12/12 [==============================] - 1s 91ms/step - loss: 0.0018 - val_loss: 2.4319e-04\n",
      "Epoch 29/100\n",
      "12/12 [==============================] - 1s 92ms/step - loss: 0.0021 - val_loss: 3.2226e-04\n",
      "Epoch 30/100\n",
      "12/12 [==============================] - 1s 92ms/step - loss: 0.0020 - val_loss: 2.8157e-04\n",
      "Epoch 31/100\n",
      "12/12 [==============================] - 1s 92ms/step - loss: 0.0020 - val_loss: 2.0934e-04\n",
      "Epoch 32/100\n",
      "12/12 [==============================] - 1s 92ms/step - loss: 0.0019 - val_loss: 3.1313e-04\n",
      "Epoch 33/100\n",
      "12/12 [==============================] - 1s 93ms/step - loss: 0.0019 - val_loss: 2.1159e-04\n",
      "Epoch 34/100\n",
      "12/12 [==============================] - 1s 92ms/step - loss: 0.0018 - val_loss: 2.1251e-04\n",
      "Epoch 35/100\n",
      "12/12 [==============================] - 1s 91ms/step - loss: 0.0022 - val_loss: 2.0507e-04\n",
      "Epoch 36/100\n",
      "12/12 [==============================] - 1s 92ms/step - loss: 0.0027 - val_loss: 2.2236e-04\n",
      "Epoch 37/100\n",
      "12/12 [==============================] - 1s 91ms/step - loss: 0.0035 - val_loss: 4.0638e-04\n",
      "Epoch 38/100\n",
      "12/12 [==============================] - 1s 92ms/step - loss: 0.0025 - val_loss: 0.0016\n",
      "Epoch 39/100\n",
      "12/12 [==============================] - 1s 91ms/step - loss: 0.0021 - val_loss: 2.7106e-04\n",
      "Epoch 40/100\n",
      "12/12 [==============================] - 1s 97ms/step - loss: 0.0027 - val_loss: 4.0690e-04\n",
      "Epoch 41/100\n",
      "12/12 [==============================] - 1s 91ms/step - loss: 0.0018 - val_loss: 2.0530e-04\n",
      "Epoch 42/100\n",
      "12/12 [==============================] - 1s 92ms/step - loss: 0.0019 - val_loss: 2.0024e-04\n",
      "Epoch 43/100\n",
      "12/12 [==============================] - 1s 92ms/step - loss: 0.0016 - val_loss: 2.0310e-04\n",
      "Epoch 44/100\n",
      "12/12 [==============================] - 1s 92ms/step - loss: 0.0024 - val_loss: 3.0231e-04\n",
      "Epoch 45/100\n",
      "12/12 [==============================] - 1s 92ms/step - loss: 0.0039 - val_loss: 3.3810e-04\n",
      "Epoch 46/100\n",
      "12/12 [==============================] - 1s 91ms/step - loss: 0.0046 - val_loss: 2.2844e-04\n",
      "Epoch 47/100\n",
      "12/12 [==============================] - 1s 94ms/step - loss: 0.0037 - val_loss: 2.5327e-04\n",
      "Epoch 48/100\n",
      "12/12 [==============================] - 1s 91ms/step - loss: 0.0021 - val_loss: 2.2681e-04\n",
      "Epoch 49/100\n",
      "12/12 [==============================] - 1s 92ms/step - loss: 0.0023 - val_loss: 3.8915e-04\n",
      "Epoch 50/100\n",
      "12/12 [==============================] - 1s 91ms/step - loss: 0.0016 - val_loss: 2.1626e-04\n",
      "Epoch 51/100\n",
      "12/12 [==============================] - 1s 91ms/step - loss: 0.0017 - val_loss: 1.9938e-04\n",
      "Epoch 52/100\n",
      "12/12 [==============================] - 1s 91ms/step - loss: 0.0016 - val_loss: 1.9703e-04\n",
      "Epoch 53/100\n",
      "12/12 [==============================] - 1s 90ms/step - loss: 0.0017 - val_loss: 1.9278e-04\n",
      "Epoch 54/100\n",
      "12/12 [==============================] - 1s 90ms/step - loss: 0.0014 - val_loss: 2.0975e-04\n",
      "Epoch 55/100\n",
      "12/12 [==============================] - 1s 91ms/step - loss: 0.0014 - val_loss: 2.1706e-04\n",
      "Epoch 56/100\n",
      "12/12 [==============================] - 1s 92ms/step - loss: 0.0015 - val_loss: 2.6714e-04\n",
      "Epoch 57/100\n",
      "12/12 [==============================] - 1s 91ms/step - loss: 0.0016 - val_loss: 3.5731e-04\n",
      "Epoch 58/100\n",
      "12/12 [==============================] - 1s 92ms/step - loss: 0.0018 - val_loss: 3.5625e-04\n",
      "Epoch 59/100\n",
      "12/12 [==============================] - 1s 91ms/step - loss: 0.0015 - val_loss: 1.9376e-04\n",
      "Epoch 60/100\n",
      "12/12 [==============================] - 1s 90ms/step - loss: 0.0017 - val_loss: 2.3018e-04\n",
      "Epoch 61/100\n",
      "12/12 [==============================] - 1s 91ms/step - loss: 0.0021 - val_loss: 2.1232e-04\n",
      "Epoch 62/100\n",
      "12/12 [==============================] - 1s 90ms/step - loss: 0.0014 - val_loss: 4.3288e-04\n",
      "Epoch 63/100\n",
      "12/12 [==============================] - 1s 92ms/step - loss: 0.0015 - val_loss: 2.0976e-04\n",
      "Epoch 64/100\n",
      "12/12 [==============================] - 1s 91ms/step - loss: 0.0013 - val_loss: 2.9579e-04\n",
      "Epoch 65/100\n",
      "12/12 [==============================] - 1s 92ms/step - loss: 0.0015 - val_loss: 2.3748e-04\n",
      "Epoch 66/100\n",
      "12/12 [==============================] - 1s 90ms/step - loss: 0.0033 - val_loss: 2.3802e-04\n",
      "Epoch 67/100\n",
      "12/12 [==============================] - 1s 91ms/step - loss: 0.0020 - val_loss: 2.0013e-04\n",
      "Epoch 68/100\n",
      "12/12 [==============================] - 1s 92ms/step - loss: 0.0019 - val_loss: 4.1015e-04\n",
      "Epoch 69/100\n",
      "12/12 [==============================] - 1s 91ms/step - loss: 0.0017 - val_loss: 2.7318e-04\n",
      "Epoch 70/100\n",
      "12/12 [==============================] - 1s 91ms/step - loss: 0.0016 - val_loss: 2.0396e-04\n",
      "Epoch 71/100\n",
      "12/12 [==============================] - 1s 92ms/step - loss: 0.0014 - val_loss: 3.4445e-04\n",
      "Epoch 72/100\n",
      "12/12 [==============================] - 1s 92ms/step - loss: 0.0016 - val_loss: 1.9626e-04\n",
      "Epoch 73/100\n",
      "12/12 [==============================] - 1s 91ms/step - loss: 0.0021 - val_loss: 7.9355e-04\n",
      "Epoch 74/100\n",
      "12/12 [==============================] - 1s 93ms/step - loss: 0.0014 - val_loss: 2.6712e-04\n",
      "Epoch 75/100\n",
      "12/12 [==============================] - 1s 93ms/step - loss: 0.0040 - val_loss: 0.0016\n",
      "Epoch 76/100\n",
      "12/12 [==============================] - 1s 93ms/step - loss: 0.0028 - val_loss: 5.1904e-04\n",
      "Epoch 77/100\n",
      "12/12 [==============================] - 1s 92ms/step - loss: 0.0020 - val_loss: 1.9032e-04\n",
      "Epoch 78/100\n",
      "12/12 [==============================] - 1s 94ms/step - loss: 0.0017 - val_loss: 1.9219e-04\n",
      "Epoch 79/100\n"
     ]
    },
    {
     "name": "stdout",
     "output_type": "stream",
     "text": [
      "12/12 [==============================] - 1s 92ms/step - loss: 0.0015 - val_loss: 2.1846e-04\n",
      "Epoch 80/100\n",
      "12/12 [==============================] - 1s 90ms/step - loss: 0.0014 - val_loss: 5.9911e-04\n",
      "Epoch 81/100\n",
      "12/12 [==============================] - 1s 91ms/step - loss: 0.0028 - val_loss: 1.9070e-04\n",
      "Epoch 82/100\n",
      "12/12 [==============================] - 1s 90ms/step - loss: 0.0032 - val_loss: 5.0780e-04\n",
      "Epoch 83/100\n",
      "12/12 [==============================] - 1s 89ms/step - loss: 0.0020 - val_loss: 2.1097e-04\n",
      "Epoch 84/100\n",
      "12/12 [==============================] - 1s 89ms/step - loss: 0.0020 - val_loss: 2.4352e-04\n",
      "Epoch 85/100\n",
      "12/12 [==============================] - 1s 89ms/step - loss: 0.0016 - val_loss: 2.5090e-04\n",
      "Epoch 86/100\n",
      "12/12 [==============================] - 1s 89ms/step - loss: 0.0013 - val_loss: 2.9061e-04\n",
      "Epoch 87/100\n",
      "12/12 [==============================] - 1s 90ms/step - loss: 0.0012 - val_loss: 5.0393e-04\n",
      "Epoch 88/100\n",
      "12/12 [==============================] - 1s 90ms/step - loss: 0.0014 - val_loss: 2.5676e-04\n",
      "Epoch 89/100\n",
      "12/12 [==============================] - 1s 90ms/step - loss: 0.0013 - val_loss: 3.3888e-04\n",
      "Epoch 90/100\n",
      "12/12 [==============================] - 1s 90ms/step - loss: 0.0013 - val_loss: 3.0151e-04\n",
      "Epoch 91/100\n",
      "12/12 [==============================] - 1s 89ms/step - loss: 0.0014 - val_loss: 2.3642e-04\n",
      "Epoch 92/100\n",
      "12/12 [==============================] - 1s 90ms/step - loss: 0.0015 - val_loss: 0.0013\n",
      "Epoch 93/100\n",
      "12/12 [==============================] - 1s 90ms/step - loss: 0.0020 - val_loss: 1.9229e-04\n",
      "Epoch 94/100\n",
      "12/12 [==============================] - 1s 90ms/step - loss: 0.0024 - val_loss: 3.4368e-04\n",
      "Epoch 95/100\n",
      "12/12 [==============================] - 1s 91ms/step - loss: 0.0011 - val_loss: 2.1391e-04\n",
      "Epoch 96/100\n",
      "12/12 [==============================] - 1s 90ms/step - loss: 0.0020 - val_loss: 1.9070e-04\n",
      "Epoch 97/100\n",
      "12/12 [==============================] - 1s 90ms/step - loss: 0.0026 - val_loss: 4.4302e-04\n",
      "Epoch 98/100\n",
      "12/12 [==============================] - 1s 90ms/step - loss: 0.0015 - val_loss: 2.4908e-04\n",
      "Epoch 99/100\n",
      "12/12 [==============================] - 1s 90ms/step - loss: 0.0011 - val_loss: 2.6628e-04\n",
      "Epoch 100/100\n",
      "12/12 [==============================] - 1s 90ms/step - loss: 0.0011 - val_loss: 2.7863e-04\n"
     ]
    },
    {
     "data": {
      "text/plain": [
       "<keras.callbacks.History at 0x229eeb88610>"
      ]
     },
     "execution_count": 23,
     "metadata": {},
     "output_type": "execute_result"
    }
   ],
   "source": [
    "model.fit(X_train, y_train, validation_data= (X_test, y_test), epochs= 100, batch_size = 64, verbose= 1)"
   ]
  },
  {
   "cell_type": "markdown",
   "id": "d119b5da",
   "metadata": {},
   "source": [
    "## Predictions and Performance Matrices"
   ]
  },
  {
   "cell_type": "code",
   "execution_count": 24,
   "id": "98446cdb",
   "metadata": {},
   "outputs": [
    {
     "name": "stdout",
     "output_type": "stream",
     "text": [
      "23/23 [==============================] - 1s 18ms/step\n",
      "11/11 [==============================] - 0s 22ms/step\n"
     ]
    }
   ],
   "source": [
    "train_predict= model.predict(X_train)\n",
    "test_predict= model.predict(X_test)"
   ]
  },
  {
   "cell_type": "code",
   "execution_count": 25,
   "id": "9310d06c",
   "metadata": {},
   "outputs": [],
   "source": [
    "#Tranforming the data to it's original form\n",
    "train_predict= scaler.inverse_transform(train_predict)\n",
    "test_predict= scaler.inverse_transform(test_predict)"
   ]
  },
  {
   "cell_type": "code",
   "execution_count": 26,
   "id": "c586a539",
   "metadata": {},
   "outputs": [
    {
     "data": {
      "text/plain": [
       "235.78118774409458"
      ]
     },
     "execution_count": 26,
     "metadata": {},
     "output_type": "execute_result"
    }
   ],
   "source": [
    "#Calculating RMSE performance matrices\n",
    "math.sqrt(mean_squared_error(y_train, train_predict))"
   ]
  },
  {
   "cell_type": "code",
   "execution_count": 27,
   "id": "2ed68f9f",
   "metadata": {},
   "outputs": [
    {
     "data": {
      "text/plain": [
       "154.0643127566554"
      ]
     },
     "execution_count": 27,
     "metadata": {},
     "output_type": "execute_result"
    }
   ],
   "source": [
    "#Test Data RMSE\n",
    "math.sqrt(mean_squared_error(y_test, test_predict))"
   ]
  },
  {
   "cell_type": "markdown",
   "id": "be744655",
   "metadata": {},
   "source": [
    "## Plotting graphs"
   ]
  },
  {
   "cell_type": "code",
   "execution_count": 71,
   "id": "c1c7e4aa",
   "metadata": {},
   "outputs": [
    {
     "data": {
      "image/png": "[encoded data removed]",
      "text/plain": [
       "<Figure size 432x288 with 1 Axes>"
      ]
     },
     "metadata": {
      "needs_background": "light"
     },
     "output_type": "display_data"
    }
   ],
   "source": [
    "#Shift train predictions for plotting\n",
    "\n",
    "look_back=100\n",
    "trainPredictPlot = np.empty_like(df2)\n",
    "trainPredictPlot[:, :] = np.nan\n",
    "trainPredictPlot[look_back:len(train_predict)+look_back, :] = train_predict\n",
    "\n",
    "# shift test predictions for plotting\n",
    "testPredictPlot = np.empty_like(df2)\n",
    "testPredictPlot[:, :] = np.nan\n",
    "testPredictPlot[len(train_predict)+(look_back*2)+1:len(df2)-1, :] = test_predict\n",
    "\n",
    "# plot baseline and predictions\n",
    "plt.plot(scaler.inverse_transform(df2))\n",
    "plt.plot(trainPredictPlot)\n",
    "plt.plot(testPredictPlot)\n",
    "plt.show()"
   ]
  },
  {
   "cell_type": "code",
   "execution_count": 58,
   "id": "57c6a579",
   "metadata": {},
   "outputs": [
    {
     "data": {
      "text/plain": [
       "(440, 817, 339, 716, 339, 716, 339, 716)"
      ]
     },
     "execution_count": 58,
     "metadata": {},
     "output_type": "execute_result"
    }
   ],
   "source": [
    "len(test_data), len(train_data), len(test_predict), len(train_predict), len(X_test), len(X_train), len(y_test), len(y_train)"
   ]
  },
  {
   "cell_type": "code",
   "execution_count": 33,
   "id": "b2919938",
   "metadata": {},
   "outputs": [
    {
     "data": {
      "text/plain": [
       "(1, 100)"
      ]
     },
     "execution_count": 33,
     "metadata": {},
     "output_type": "execute_result"
    }
   ],
   "source": [
    "x_input= test_data[340: ].reshape(1, -1)\n",
    "x_input.shape"
   ]
  },
  {
   "cell_type": "code",
   "execution_count": 34,
   "id": "57957739",
   "metadata": {},
   "outputs": [],
   "source": [
    "temp_input= list(x_input)\n",
    "temp_input= temp_input[0].tolist()"
   ]
  },
  {
   "cell_type": "code",
   "execution_count": 35,
   "id": "2b67bfe9",
   "metadata": {},
   "outputs": [
    {
     "name": "stdout",
     "output_type": "stream",
     "text": [
      "[0.10760789]\n",
      "101\n",
      "1 day input [0.13332498 0.14001252 0.14529743 0.1459737  0.14116468 0.14958046\n",
      " 0.14875391 0.14108954 0.13139637 0.12673763 0.14053851 0.12944271\n",
      " 0.11994991 0.1096556  0.1208516  0.13212273 0.13470257 0.14311835\n",
      " 0.14662492 0.15524108 0.1587226  0.16839073 0.17001879 0.17222292\n",
      " 0.1806387  0.17765811 0.16974327 0.16899186 0.17933626 0.17087038\n",
      " 0.16278021 0.16355667 0.15842204 0.14755166 0.15233563 0.1591985\n",
      " 0.1463995  0.14584847 0.15168441 0.15125861 0.14922981 0.13763306\n",
      " 0.14036318 0.12513463 0.12455855 0.14226675 0.12726362 0.12804008\n",
      " 0.13184721 0.14822793 0.12505949 0.12633688 0.11326237 0.11939887\n",
      " 0.09933626 0.08946775 0.10086412 0.09693175 0.10619912 0.08510958\n",
      " 0.07641828 0.07701941 0.09084534 0.08395742 0.08435817 0.09252348\n",
      " 0.107201   0.10519724 0.10487163 0.11113338 0.096531   0.09843456\n",
      " 0.10487163 0.10299311 0.08966813 0.07586725 0.0627176  0.06492173\n",
      " 0.07160927 0.05815905 0.06191609 0.07271133 0.07140889 0.0787226\n",
      " 0.08721353 0.08721353 0.07664371 0.08112711 0.07484033 0.0803757\n",
      " 0.08696306 0.09036944 0.09896055 0.10068879 0.0952536  0.09773325\n",
      " 0.09680651 0.10427051 0.10852849 0.10760789]\n",
      "1 day output [[0.10979667]]\n",
      "2 day input [0.14001252 0.14529743 0.1459737  0.14116468 0.14958046 0.14875391\n",
      " 0.14108954 0.13139637 0.12673763 0.14053851 0.12944271 0.11994991\n",
      " 0.1096556  0.1208516  0.13212273 0.13470257 0.14311835 0.14662492\n",
      " 0.15524108 0.1587226  0.16839073 0.17001879 0.17222292 0.1806387\n",
      " 0.17765811 0.16974327 0.16899186 0.17933626 0.17087038 0.16278021\n",
      " 0.16355667 0.15842204 0.14755166 0.15233563 0.1591985  0.1463995\n",
      " 0.14584847 0.15168441 0.15125861 0.14922981 0.13763306 0.14036318\n",
      " 0.12513463 0.12455855 0.14226675 0.12726362 0.12804008 0.13184721\n",
      " 0.14822793 0.12505949 0.12633688 0.11326237 0.11939887 0.09933626\n",
      " 0.08946775 0.10086412 0.09693175 0.10619912 0.08510958 0.07641828\n",
      " 0.07701941 0.09084534 0.08395742 0.08435817 0.09252348 0.107201\n",
      " 0.10519724 0.10487163 0.11113338 0.096531   0.09843456 0.10487163\n",
      " 0.10299311 0.08966813 0.07586725 0.0627176  0.06492173 0.07160927\n",
      " 0.05815905 0.06191609 0.07271133 0.07140889 0.0787226  0.08721353\n",
      " 0.08721353 0.07664371 0.08112711 0.07484033 0.0803757  0.08696306\n",
      " 0.09036944 0.09896055 0.10068879 0.0952536  0.09773325 0.09680651\n",
      " 0.10427051 0.10852849 0.10760789 0.10979667]\n",
      "2 day output [[0.11195576]]\n",
      "3 day input [0.14529743 0.1459737  0.14116468 0.14958046 0.14875391 0.14108954\n",
      " 0.13139637 0.12673763 0.14053851 0.12944271 0.11994991 0.1096556\n",
      " 0.1208516  0.13212273 0.13470257 0.14311835 0.14662492 0.15524108\n",
      " 0.1587226  0.16839073 0.17001879 0.17222292 0.1806387  0.17765811\n",
      " 0.16974327 0.16899186 0.17933626 0.17087038 0.16278021 0.16355667\n",
      " 0.15842204 0.14755166 0.15233563 0.1591985  0.1463995  0.14584847\n",
      " 0.15168441 0.15125861 0.14922981 0.13763306 0.14036318 0.12513463\n",
      " 0.12455855 0.14226675 0.12726362 0.12804008 0.13184721 0.14822793\n",
      " 0.12505949 0.12633688 0.11326237 0.11939887 0.09933626 0.08946775\n",
      " 0.10086412 0.09693175 0.10619912 0.08510958 0.07641828 0.07701941\n",
      " 0.09084534 0.08395742 0.08435817 0.09252348 0.107201   0.10519724\n",
      " 0.10487163 0.11113338 0.096531   0.09843456 0.10487163 0.10299311\n",
      " 0.08966813 0.07586725 0.0627176  0.06492173 0.07160927 0.05815905\n",
      " 0.06191609 0.07271133 0.07140889 0.0787226  0.08721353 0.08721353\n",
      " 0.07664371 0.08112711 0.07484033 0.0803757  0.08696306 0.09036944\n",
      " 0.09896055 0.10068879 0.0952536  0.09773325 0.09680651 0.10427051\n",
      " 0.10852849 0.10760789 0.10979667 0.11195576]\n",
      "3 day output [[0.11407009]]\n",
      "4 day input [0.1459737  0.14116468 0.14958046 0.14875391 0.14108954 0.13139637\n",
      " 0.12673763 0.14053851 0.12944271 0.11994991 0.1096556  0.1208516\n",
      " 0.13212273 0.13470257 0.14311835 0.14662492 0.15524108 0.1587226\n",
      " 0.16839073 0.17001879 0.17222292 0.1806387  0.17765811 0.16974327\n",
      " 0.16899186 0.17933626 0.17087038 0.16278021 0.16355667 0.15842204\n",
      " 0.14755166 0.15233563 0.1591985  0.1463995  0.14584847 0.15168441\n",
      " 0.15125861 0.14922981 0.13763306 0.14036318 0.12513463 0.12455855\n",
      " 0.14226675 0.12726362 0.12804008 0.13184721 0.14822793 0.12505949\n",
      " 0.12633688 0.11326237 0.11939887 0.09933626 0.08946775 0.10086412\n",
      " 0.09693175 0.10619912 0.08510958 0.07641828 0.07701941 0.09084534\n",
      " 0.08395742 0.08435817 0.09252348 0.107201   0.10519724 0.10487163\n",
      " 0.11113338 0.096531   0.09843456 0.10487163 0.10299311 0.08966813\n",
      " 0.07586725 0.0627176  0.06492173 0.07160927 0.05815905 0.06191609\n",
      " 0.07271133 0.07140889 0.0787226  0.08721353 0.08721353 0.07664371\n",
      " 0.08112711 0.07484033 0.0803757  0.08696306 0.09036944 0.09896055\n",
      " 0.10068879 0.0952536  0.09773325 0.09680651 0.10427051 0.10852849\n",
      " 0.10760789 0.10979667 0.11195576 0.11407009]\n",
      "4 day output [[0.11613671]]\n",
      "5 day input [0.14116468 0.14958046 0.14875391 0.14108954 0.13139637 0.12673763\n",
      " 0.14053851 0.12944271 0.11994991 0.1096556  0.1208516  0.13212273\n",
      " 0.13470257 0.14311835 0.14662492 0.15524108 0.1587226  0.16839073\n",
      " 0.17001879 0.17222292 0.1806387  0.17765811 0.16974327 0.16899186\n",
      " 0.17933626 0.17087038 0.16278021 0.16355667 0.15842204 0.14755166\n",
      " 0.15233563 0.1591985  0.1463995  0.14584847 0.15168441 0.15125861\n",
      " 0.14922981 0.13763306 0.14036318 0.12513463 0.12455855 0.14226675\n",
      " 0.12726362 0.12804008 0.13184721 0.14822793 0.12505949 0.12633688\n",
      " 0.11326237 0.11939887 0.09933626 0.08946775 0.10086412 0.09693175\n",
      " 0.10619912 0.08510958 0.07641828 0.07701941 0.09084534 0.08395742\n",
      " 0.08435817 0.09252348 0.107201   0.10519724 0.10487163 0.11113338\n",
      " 0.096531   0.09843456 0.10487163 0.10299311 0.08966813 0.07586725\n",
      " 0.0627176  0.06492173 0.07160927 0.05815905 0.06191609 0.07271133\n",
      " 0.07140889 0.0787226  0.08721353 0.08721353 0.07664371 0.08112711\n",
      " 0.07484033 0.0803757  0.08696306 0.09036944 0.09896055 0.10068879\n",
      " 0.0952536  0.09773325 0.09680651 0.10427051 0.10852849 0.10760789\n",
      " 0.10979667 0.11195576 0.11407009 0.11613671]\n",
      "5 day output [[0.11815735]]\n",
      "6 day input [0.14958046 0.14875391 0.14108954 0.13139637 0.12673763 0.14053851\n",
      " 0.12944271 0.11994991 0.1096556  0.1208516  0.13212273 0.13470257\n",
      " 0.14311835 0.14662492 0.15524108 0.1587226  0.16839073 0.17001879\n",
      " 0.17222292 0.1806387  0.17765811 0.16974327 0.16899186 0.17933626\n",
      " 0.17087038 0.16278021 0.16355667 0.15842204 0.14755166 0.15233563\n",
      " 0.1591985  0.1463995  0.14584847 0.15168441 0.15125861 0.14922981\n",
      " 0.13763306 0.14036318 0.12513463 0.12455855 0.14226675 0.12726362\n",
      " 0.12804008 0.13184721 0.14822793 0.12505949 0.12633688 0.11326237\n",
      " 0.11939887 0.09933626 0.08946775 0.10086412 0.09693175 0.10619912\n",
      " 0.08510958 0.07641828 0.07701941 0.09084534 0.08395742 0.08435817\n",
      " 0.09252348 0.107201   0.10519724 0.10487163 0.11113338 0.096531\n",
      " 0.09843456 0.10487163 0.10299311 0.08966813 0.07586725 0.0627176\n",
      " 0.06492173 0.07160927 0.05815905 0.06191609 0.07271133 0.07140889\n",
      " 0.0787226  0.08721353 0.08721353 0.07664371 0.08112711 0.07484033\n",
      " 0.0803757  0.08696306 0.09036944 0.09896055 0.10068879 0.0952536\n",
      " 0.09773325 0.09680651 0.10427051 0.10852849 0.10760789 0.10979667\n",
      " 0.11195576 0.11407009 0.11613671 0.11815735]\n",
      "6 day output [[0.12013493]]\n",
      "7 day input [0.14875391 0.14108954 0.13139637 0.12673763 0.14053851 0.12944271\n",
      " 0.11994991 0.1096556  0.1208516  0.13212273 0.13470257 0.14311835\n",
      " 0.14662492 0.15524108 0.1587226  0.16839073 0.17001879 0.17222292\n",
      " 0.1806387  0.17765811 0.16974327 0.16899186 0.17933626 0.17087038\n",
      " 0.16278021 0.16355667 0.15842204 0.14755166 0.15233563 0.1591985\n",
      " 0.1463995  0.14584847 0.15168441 0.15125861 0.14922981 0.13763306\n",
      " 0.14036318 0.12513463 0.12455855 0.14226675 0.12726362 0.12804008\n",
      " 0.13184721 0.14822793 0.12505949 0.12633688 0.11326237 0.11939887\n",
      " 0.09933626 0.08946775 0.10086412 0.09693175 0.10619912 0.08510958\n",
      " 0.07641828 0.07701941 0.09084534 0.08395742 0.08435817 0.09252348\n",
      " 0.107201   0.10519724 0.10487163 0.11113338 0.096531   0.09843456\n",
      " 0.10487163 0.10299311 0.08966813 0.07586725 0.0627176  0.06492173\n",
      " 0.07160927 0.05815905 0.06191609 0.07271133 0.07140889 0.0787226\n",
      " 0.08721353 0.08721353 0.07664371 0.08112711 0.07484033 0.0803757\n",
      " 0.08696306 0.09036944 0.09896055 0.10068879 0.0952536  0.09773325\n",
      " 0.09680651 0.10427051 0.10852849 0.10760789 0.10979667 0.11195576\n",
      " 0.11407009 0.11613671 0.11815735 0.12013493]\n",
      "7 day output [[0.12207193]]\n",
      "8 day input [0.14108954 0.13139637 0.12673763 0.14053851 0.12944271 0.11994991\n",
      " 0.1096556  0.1208516  0.13212273 0.13470257 0.14311835 0.14662492\n",
      " 0.15524108 0.1587226  0.16839073 0.17001879 0.17222292 0.1806387\n",
      " 0.17765811 0.16974327 0.16899186 0.17933626 0.17087038 0.16278021\n",
      " 0.16355667 0.15842204 0.14755166 0.15233563 0.1591985  0.1463995\n",
      " 0.14584847 0.15168441 0.15125861 0.14922981 0.13763306 0.14036318\n",
      " 0.12513463 0.12455855 0.14226675 0.12726362 0.12804008 0.13184721\n",
      " 0.14822793 0.12505949 0.12633688 0.11326237 0.11939887 0.09933626\n",
      " 0.08946775 0.10086412 0.09693175 0.10619912 0.08510958 0.07641828\n",
      " 0.07701941 0.09084534 0.08395742 0.08435817 0.09252348 0.107201\n",
      " 0.10519724 0.10487163 0.11113338 0.096531   0.09843456 0.10487163\n",
      " 0.10299311 0.08966813 0.07586725 0.0627176  0.06492173 0.07160927\n",
      " 0.05815905 0.06191609 0.07271133 0.07140889 0.0787226  0.08721353\n",
      " 0.08721353 0.07664371 0.08112711 0.07484033 0.0803757  0.08696306\n",
      " 0.09036944 0.09896055 0.10068879 0.0952536  0.09773325 0.09680651\n",
      " 0.10427051 0.10852849 0.10760789 0.10979667 0.11195576 0.11407009\n",
      " 0.11613671 0.11815735 0.12013493 0.12207193]\n",
      "8 day output [[0.1239703]]\n",
      "9 day input [0.13139637 0.12673763 0.14053851 0.12944271 0.11994991 0.1096556\n",
      " 0.1208516  0.13212273 0.13470257 0.14311835 0.14662492 0.15524108\n",
      " 0.1587226  0.16839073 0.17001879 0.17222292 0.1806387  0.17765811\n",
      " 0.16974327 0.16899186 0.17933626 0.17087038 0.16278021 0.16355667\n",
      " 0.15842204 0.14755166 0.15233563 0.1591985  0.1463995  0.14584847\n",
      " 0.15168441 0.15125861 0.14922981 0.13763306 0.14036318 0.12513463\n",
      " 0.12455855 0.14226675 0.12726362 0.12804008 0.13184721 0.14822793\n",
      " 0.12505949 0.12633688 0.11326237 0.11939887 0.09933626 0.08946775\n",
      " 0.10086412 0.09693175 0.10619912 0.08510958 0.07641828 0.07701941\n",
      " 0.09084534 0.08395742 0.08435817 0.09252348 0.107201   0.10519724\n",
      " 0.10487163 0.11113338 0.096531   0.09843456 0.10487163 0.10299311\n",
      " 0.08966813 0.07586725 0.0627176  0.06492173 0.07160927 0.05815905\n",
      " 0.06191609 0.07271133 0.07140889 0.0787226  0.08721353 0.08721353\n",
      " 0.07664371 0.08112711 0.07484033 0.0803757  0.08696306 0.09036944\n",
      " 0.09896055 0.10068879 0.0952536  0.09773325 0.09680651 0.10427051\n",
      " 0.10852849 0.10760789 0.10979667 0.11195576 0.11407009 0.11613671\n",
      " 0.11815735 0.12013493 0.12207193 0.1239703 ]\n",
      "9 day output [[0.12583144]]\n",
      "10 day input [0.12673763 0.14053851 0.12944271 0.11994991 0.1096556  0.1208516\n",
      " 0.13212273 0.13470257 0.14311835 0.14662492 0.15524108 0.1587226\n",
      " 0.16839073 0.17001879 0.17222292 0.1806387  0.17765811 0.16974327\n",
      " 0.16899186 0.17933626 0.17087038 0.16278021 0.16355667 0.15842204\n",
      " 0.14755166 0.15233563 0.1591985  0.1463995  0.14584847 0.15168441\n",
      " 0.15125861 0.14922981 0.13763306 0.14036318 0.12513463 0.12455855\n",
      " 0.14226675 0.12726362 0.12804008 0.13184721 0.14822793 0.12505949\n",
      " 0.12633688 0.11326237 0.11939887 0.09933626 0.08946775 0.10086412\n",
      " 0.09693175 0.10619912 0.08510958 0.07641828 0.07701941 0.09084534\n",
      " 0.08395742 0.08435817 0.09252348 0.107201   0.10519724 0.10487163\n",
      " 0.11113338 0.096531   0.09843456 0.10487163 0.10299311 0.08966813\n",
      " 0.07586725 0.0627176  0.06492173 0.07160927 0.05815905 0.06191609\n",
      " 0.07271133 0.07140889 0.0787226  0.08721353 0.08721353 0.07664371\n",
      " 0.08112711 0.07484033 0.0803757  0.08696306 0.09036944 0.09896055\n",
      " 0.10068879 0.0952536  0.09773325 0.09680651 0.10427051 0.10852849\n",
      " 0.10760789 0.10979667 0.11195576 0.11407009 0.11613671 0.11815735\n",
      " 0.12013493 0.12207193 0.1239703  0.12583144]\n",
      "10 day output [[0.1276565]]\n",
      "11 day input [0.14053851 0.12944271 0.11994991 0.1096556  0.1208516  0.13212273\n",
      " 0.13470257 0.14311835 0.14662492 0.15524108 0.1587226  0.16839073\n",
      " 0.17001879 0.17222292 0.1806387  0.17765811 0.16974327 0.16899186\n",
      " 0.17933626 0.17087038 0.16278021 0.16355667 0.15842204 0.14755166\n",
      " 0.15233563 0.1591985  0.1463995  0.14584847 0.15168441 0.15125861\n",
      " 0.14922981 0.13763306 0.14036318 0.12513463 0.12455855 0.14226675\n",
      " 0.12726362 0.12804008 0.13184721 0.14822793 0.12505949 0.12633688\n",
      " 0.11326237 0.11939887 0.09933626 0.08946775 0.10086412 0.09693175\n",
      " 0.10619912 0.08510958 0.07641828 0.07701941 0.09084534 0.08395742\n",
      " 0.08435817 0.09252348 0.107201   0.10519724 0.10487163 0.11113338\n",
      " 0.096531   0.09843456 0.10487163 0.10299311 0.08966813 0.07586725\n",
      " 0.0627176  0.06492173 0.07160927 0.05815905 0.06191609 0.07271133\n",
      " 0.07140889 0.0787226  0.08721353 0.08721353 0.07664371 0.08112711\n",
      " 0.07484033 0.0803757  0.08696306 0.09036944 0.09896055 0.10068879\n",
      " 0.0952536  0.09773325 0.09680651 0.10427051 0.10852849 0.10760789\n",
      " 0.10979667 0.11195576 0.11407009 0.11613671 0.11815735 0.12013493\n",
      " 0.12207193 0.1239703  0.12583144 0.1276565 ]\n"
     ]
    },
    {
     "name": "stdout",
     "output_type": "stream",
     "text": [
      "11 day output [[0.12944654]]\n",
      "12 day input [0.12944271 0.11994991 0.1096556  0.1208516  0.13212273 0.13470257\n",
      " 0.14311835 0.14662492 0.15524108 0.1587226  0.16839073 0.17001879\n",
      " 0.17222292 0.1806387  0.17765811 0.16974327 0.16899186 0.17933626\n",
      " 0.17087038 0.16278021 0.16355667 0.15842204 0.14755166 0.15233563\n",
      " 0.1591985  0.1463995  0.14584847 0.15168441 0.15125861 0.14922981\n",
      " 0.13763306 0.14036318 0.12513463 0.12455855 0.14226675 0.12726362\n",
      " 0.12804008 0.13184721 0.14822793 0.12505949 0.12633688 0.11326237\n",
      " 0.11939887 0.09933626 0.08946775 0.10086412 0.09693175 0.10619912\n",
      " 0.08510958 0.07641828 0.07701941 0.09084534 0.08395742 0.08435817\n",
      " 0.09252348 0.107201   0.10519724 0.10487163 0.11113338 0.096531\n",
      " 0.09843456 0.10487163 0.10299311 0.08966813 0.07586725 0.0627176\n",
      " 0.06492173 0.07160927 0.05815905 0.06191609 0.07271133 0.07140889\n",
      " 0.0787226  0.08721353 0.08721353 0.07664371 0.08112711 0.07484033\n",
      " 0.0803757  0.08696306 0.09036944 0.09896055 0.10068879 0.0952536\n",
      " 0.09773325 0.09680651 0.10427051 0.10852849 0.10760789 0.10979667\n",
      " 0.11195576 0.11407009 0.11613671 0.11815735 0.12013493 0.12207193\n",
      " 0.1239703  0.12583144 0.1276565  0.12944654]\n",
      "12 day output [[0.13120246]]\n",
      "13 day input [0.11994991 0.1096556  0.1208516  0.13212273 0.13470257 0.14311835\n",
      " 0.14662492 0.15524108 0.1587226  0.16839073 0.17001879 0.17222292\n",
      " 0.1806387  0.17765811 0.16974327 0.16899186 0.17933626 0.17087038\n",
      " 0.16278021 0.16355667 0.15842204 0.14755166 0.15233563 0.1591985\n",
      " 0.1463995  0.14584847 0.15168441 0.15125861 0.14922981 0.13763306\n",
      " 0.14036318 0.12513463 0.12455855 0.14226675 0.12726362 0.12804008\n",
      " 0.13184721 0.14822793 0.12505949 0.12633688 0.11326237 0.11939887\n",
      " 0.09933626 0.08946775 0.10086412 0.09693175 0.10619912 0.08510958\n",
      " 0.07641828 0.07701941 0.09084534 0.08395742 0.08435817 0.09252348\n",
      " 0.107201   0.10519724 0.10487163 0.11113338 0.096531   0.09843456\n",
      " 0.10487163 0.10299311 0.08966813 0.07586725 0.0627176  0.06492173\n",
      " 0.07160927 0.05815905 0.06191609 0.07271133 0.07140889 0.0787226\n",
      " 0.08721353 0.08721353 0.07664371 0.08112711 0.07484033 0.0803757\n",
      " 0.08696306 0.09036944 0.09896055 0.10068879 0.0952536  0.09773325\n",
      " 0.09680651 0.10427051 0.10852849 0.10760789 0.10979667 0.11195576\n",
      " 0.11407009 0.11613671 0.11815735 0.12013493 0.12207193 0.1239703\n",
      " 0.12583144 0.1276565  0.12944654 0.13120246]\n",
      "13 day output [[0.13292533]]\n",
      "14 day input [0.1096556  0.1208516  0.13212273 0.13470257 0.14311835 0.14662492\n",
      " 0.15524108 0.1587226  0.16839073 0.17001879 0.17222292 0.1806387\n",
      " 0.17765811 0.16974327 0.16899186 0.17933626 0.17087038 0.16278021\n",
      " 0.16355667 0.15842204 0.14755166 0.15233563 0.1591985  0.1463995\n",
      " 0.14584847 0.15168441 0.15125861 0.14922981 0.13763306 0.14036318\n",
      " 0.12513463 0.12455855 0.14226675 0.12726362 0.12804008 0.13184721\n",
      " 0.14822793 0.12505949 0.12633688 0.11326237 0.11939887 0.09933626\n",
      " 0.08946775 0.10086412 0.09693175 0.10619912 0.08510958 0.07641828\n",
      " 0.07701941 0.09084534 0.08395742 0.08435817 0.09252348 0.107201\n",
      " 0.10519724 0.10487163 0.11113338 0.096531   0.09843456 0.10487163\n",
      " 0.10299311 0.08966813 0.07586725 0.0627176  0.06492173 0.07160927\n",
      " 0.05815905 0.06191609 0.07271133 0.07140889 0.0787226  0.08721353\n",
      " 0.08721353 0.07664371 0.08112711 0.07484033 0.0803757  0.08696306\n",
      " 0.09036944 0.09896055 0.10068879 0.0952536  0.09773325 0.09680651\n",
      " 0.10427051 0.10852849 0.10760789 0.10979667 0.11195576 0.11407009\n",
      " 0.11613671 0.11815735 0.12013493 0.12207193 0.1239703  0.12583144\n",
      " 0.1276565  0.12944654 0.13120246 0.13292533]\n",
      "14 day output [[0.13461623]]\n",
      "15 day input [0.1208516  0.13212273 0.13470257 0.14311835 0.14662492 0.15524108\n",
      " 0.1587226  0.16839073 0.17001879 0.17222292 0.1806387  0.17765811\n",
      " 0.16974327 0.16899186 0.17933626 0.17087038 0.16278021 0.16355667\n",
      " 0.15842204 0.14755166 0.15233563 0.1591985  0.1463995  0.14584847\n",
      " 0.15168441 0.15125861 0.14922981 0.13763306 0.14036318 0.12513463\n",
      " 0.12455855 0.14226675 0.12726362 0.12804008 0.13184721 0.14822793\n",
      " 0.12505949 0.12633688 0.11326237 0.11939887 0.09933626 0.08946775\n",
      " 0.10086412 0.09693175 0.10619912 0.08510958 0.07641828 0.07701941\n",
      " 0.09084534 0.08395742 0.08435817 0.09252348 0.107201   0.10519724\n",
      " 0.10487163 0.11113338 0.096531   0.09843456 0.10487163 0.10299311\n",
      " 0.08966813 0.07586725 0.0627176  0.06492173 0.07160927 0.05815905\n",
      " 0.06191609 0.07271133 0.07140889 0.0787226  0.08721353 0.08721353\n",
      " 0.07664371 0.08112711 0.07484033 0.0803757  0.08696306 0.09036944\n",
      " 0.09896055 0.10068879 0.0952536  0.09773325 0.09680651 0.10427051\n",
      " 0.10852849 0.10760789 0.10979667 0.11195576 0.11407009 0.11613671\n",
      " 0.11815735 0.12013493 0.12207193 0.1239703  0.12583144 0.1276565\n",
      " 0.12944654 0.13120246 0.13292533 0.13461623]\n",
      "15 day output [[0.13627622]]\n",
      "16 day input [0.13212273 0.13470257 0.14311835 0.14662492 0.15524108 0.1587226\n",
      " 0.16839073 0.17001879 0.17222292 0.1806387  0.17765811 0.16974327\n",
      " 0.16899186 0.17933626 0.17087038 0.16278021 0.16355667 0.15842204\n",
      " 0.14755166 0.15233563 0.1591985  0.1463995  0.14584847 0.15168441\n",
      " 0.15125861 0.14922981 0.13763306 0.14036318 0.12513463 0.12455855\n",
      " 0.14226675 0.12726362 0.12804008 0.13184721 0.14822793 0.12505949\n",
      " 0.12633688 0.11326237 0.11939887 0.09933626 0.08946775 0.10086412\n",
      " 0.09693175 0.10619912 0.08510958 0.07641828 0.07701941 0.09084534\n",
      " 0.08395742 0.08435817 0.09252348 0.107201   0.10519724 0.10487163\n",
      " 0.11113338 0.096531   0.09843456 0.10487163 0.10299311 0.08966813\n",
      " 0.07586725 0.0627176  0.06492173 0.07160927 0.05815905 0.06191609\n",
      " 0.07271133 0.07140889 0.0787226  0.08721353 0.08721353 0.07664371\n",
      " 0.08112711 0.07484033 0.0803757  0.08696306 0.09036944 0.09896055\n",
      " 0.10068879 0.0952536  0.09773325 0.09680651 0.10427051 0.10852849\n",
      " 0.10760789 0.10979667 0.11195576 0.11407009 0.11613671 0.11815735\n",
      " 0.12013493 0.12207193 0.1239703  0.12583144 0.1276565  0.12944654\n",
      " 0.13120246 0.13292533 0.13461623 0.13627622]\n",
      "16 day output [[0.13790628]]\n",
      "17 day input [0.13470257 0.14311835 0.14662492 0.15524108 0.1587226  0.16839073\n",
      " 0.17001879 0.17222292 0.1806387  0.17765811 0.16974327 0.16899186\n",
      " 0.17933626 0.17087038 0.16278021 0.16355667 0.15842204 0.14755166\n",
      " 0.15233563 0.1591985  0.1463995  0.14584847 0.15168441 0.15125861\n",
      " 0.14922981 0.13763306 0.14036318 0.12513463 0.12455855 0.14226675\n",
      " 0.12726362 0.12804008 0.13184721 0.14822793 0.12505949 0.12633688\n",
      " 0.11326237 0.11939887 0.09933626 0.08946775 0.10086412 0.09693175\n",
      " 0.10619912 0.08510958 0.07641828 0.07701941 0.09084534 0.08395742\n",
      " 0.08435817 0.09252348 0.107201   0.10519724 0.10487163 0.11113338\n",
      " 0.096531   0.09843456 0.10487163 0.10299311 0.08966813 0.07586725\n",
      " 0.0627176  0.06492173 0.07160927 0.05815905 0.06191609 0.07271133\n",
      " 0.07140889 0.0787226  0.08721353 0.08721353 0.07664371 0.08112711\n",
      " 0.07484033 0.0803757  0.08696306 0.09036944 0.09896055 0.10068879\n",
      " 0.0952536  0.09773325 0.09680651 0.10427051 0.10852849 0.10760789\n",
      " 0.10979667 0.11195576 0.11407009 0.11613671 0.11815735 0.12013493\n",
      " 0.12207193 0.1239703  0.12583144 0.1276565  0.12944654 0.13120246\n",
      " 0.13292533 0.13461623 0.13627622 0.13790628]\n",
      "17 day output [[0.13950746]]\n",
      "18 day input [0.14311835 0.14662492 0.15524108 0.1587226  0.16839073 0.17001879\n",
      " 0.17222292 0.1806387  0.17765811 0.16974327 0.16899186 0.17933626\n",
      " 0.17087038 0.16278021 0.16355667 0.15842204 0.14755166 0.15233563\n",
      " 0.1591985  0.1463995  0.14584847 0.15168441 0.15125861 0.14922981\n",
      " 0.13763306 0.14036318 0.12513463 0.12455855 0.14226675 0.12726362\n",
      " 0.12804008 0.13184721 0.14822793 0.12505949 0.12633688 0.11326237\n",
      " 0.11939887 0.09933626 0.08946775 0.10086412 0.09693175 0.10619912\n",
      " 0.08510958 0.07641828 0.07701941 0.09084534 0.08395742 0.08435817\n",
      " 0.09252348 0.107201   0.10519724 0.10487163 0.11113338 0.096531\n",
      " 0.09843456 0.10487163 0.10299311 0.08966813 0.07586725 0.0627176\n",
      " 0.06492173 0.07160927 0.05815905 0.06191609 0.07271133 0.07140889\n",
      " 0.0787226  0.08721353 0.08721353 0.07664371 0.08112711 0.07484033\n",
      " 0.0803757  0.08696306 0.09036944 0.09896055 0.10068879 0.0952536\n",
      " 0.09773325 0.09680651 0.10427051 0.10852849 0.10760789 0.10979667\n",
      " 0.11195576 0.11407009 0.11613671 0.11815735 0.12013493 0.12207193\n",
      " 0.1239703  0.12583144 0.1276565  0.12944654 0.13120246 0.13292533\n",
      " 0.13461623 0.13627622 0.13790628 0.13950746]\n",
      "18 day output [[0.14108077]]\n",
      "19 day input [0.14662492 0.15524108 0.1587226  0.16839073 0.17001879 0.17222292\n",
      " 0.1806387  0.17765811 0.16974327 0.16899186 0.17933626 0.17087038\n",
      " 0.16278021 0.16355667 0.15842204 0.14755166 0.15233563 0.1591985\n",
      " 0.1463995  0.14584847 0.15168441 0.15125861 0.14922981 0.13763306\n",
      " 0.14036318 0.12513463 0.12455855 0.14226675 0.12726362 0.12804008\n",
      " 0.13184721 0.14822793 0.12505949 0.12633688 0.11326237 0.11939887\n",
      " 0.09933626 0.08946775 0.10086412 0.09693175 0.10619912 0.08510958\n",
      " 0.07641828 0.07701941 0.09084534 0.08395742 0.08435817 0.09252348\n",
      " 0.107201   0.10519724 0.10487163 0.11113338 0.096531   0.09843456\n",
      " 0.10487163 0.10299311 0.08966813 0.07586725 0.0627176  0.06492173\n",
      " 0.07160927 0.05815905 0.06191609 0.07271133 0.07140889 0.0787226\n",
      " 0.08721353 0.08721353 0.07664371 0.08112711 0.07484033 0.0803757\n",
      " 0.08696306 0.09036944 0.09896055 0.10068879 0.0952536  0.09773325\n",
      " 0.09680651 0.10427051 0.10852849 0.10760789 0.10979667 0.11195576\n",
      " 0.11407009 0.11613671 0.11815735 0.12013493 0.12207193 0.1239703\n",
      " 0.12583144 0.1276565  0.12944654 0.13120246 0.13292533 0.13461623\n",
      " 0.13627622 0.13790628 0.13950746 0.14108077]\n",
      "19 day output [[0.1426271]]\n",
      "20 day input [0.15524108 0.1587226  0.16839073 0.17001879 0.17222292 0.1806387\n",
      " 0.17765811 0.16974327 0.16899186 0.17933626 0.17087038 0.16278021\n",
      " 0.16355667 0.15842204 0.14755166 0.15233563 0.1591985  0.1463995\n",
      " 0.14584847 0.15168441 0.15125861 0.14922981 0.13763306 0.14036318\n",
      " 0.12513463 0.12455855 0.14226675 0.12726362 0.12804008 0.13184721\n",
      " 0.14822793 0.12505949 0.12633688 0.11326237 0.11939887 0.09933626\n",
      " 0.08946775 0.10086412 0.09693175 0.10619912 0.08510958 0.07641828\n",
      " 0.07701941 0.09084534 0.08395742 0.08435817 0.09252348 0.107201\n",
      " 0.10519724 0.10487163 0.11113338 0.096531   0.09843456 0.10487163\n",
      " 0.10299311 0.08966813 0.07586725 0.0627176  0.06492173 0.07160927\n",
      " 0.05815905 0.06191609 0.07271133 0.07140889 0.0787226  0.08721353\n",
      " 0.08721353 0.07664371 0.08112711 0.07484033 0.0803757  0.08696306\n",
      " 0.09036944 0.09896055 0.10068879 0.0952536  0.09773325 0.09680651\n",
      " 0.10427051 0.10852849 0.10760789 0.10979667 0.11195576 0.11407009\n",
      " 0.11613671 0.11815735 0.12013493 0.12207193 0.1239703  0.12583144\n",
      " 0.1276565  0.12944654 0.13120246 0.13292533 0.13461623 0.13627622\n",
      " 0.13790628 0.13950746 0.14108077 0.14262711]\n",
      "20 day output [[0.14414732]]\n",
      "21 day input [0.1587226  0.16839073 0.17001879 0.17222292 0.1806387  0.17765811\n",
      " 0.16974327 0.16899186 0.17933626 0.17087038 0.16278021 0.16355667\n",
      " 0.15842204 0.14755166 0.15233563 0.1591985  0.1463995  0.14584847\n",
      " 0.15168441 0.15125861 0.14922981 0.13763306 0.14036318 0.12513463\n",
      " 0.12455855 0.14226675 0.12726362 0.12804008 0.13184721 0.14822793\n",
      " 0.12505949 0.12633688 0.11326237 0.11939887 0.09933626 0.08946775\n",
      " 0.10086412 0.09693175 0.10619912 0.08510958 0.07641828 0.07701941\n",
      " 0.09084534 0.08395742 0.08435817 0.09252348 0.107201   0.10519724\n",
      " 0.10487163 0.11113338 0.096531   0.09843456 0.10487163 0.10299311\n",
      " 0.08966813 0.07586725 0.0627176  0.06492173 0.07160927 0.05815905\n",
      " 0.06191609 0.07271133 0.07140889 0.0787226  0.08721353 0.08721353\n",
      " 0.07664371 0.08112711 0.07484033 0.0803757  0.08696306 0.09036944\n",
      " 0.09896055 0.10068879 0.0952536  0.09773325 0.09680651 0.10427051\n",
      " 0.10852849 0.10760789 0.10979667 0.11195576 0.11407009 0.11613671\n",
      " 0.11815735 0.12013493 0.12207193 0.1239703  0.12583144 0.1276565\n",
      " 0.12944654 0.13120246 0.13292533 0.13461623 0.13627622 0.13790628\n",
      " 0.13950746 0.14108077 0.14262711 0.14414732]\n",
      "21 day output [[0.14564224]]\n",
      "22 day input [0.16839073 0.17001879 0.17222292 0.1806387  0.17765811 0.16974327\n",
      " 0.16899186 0.17933626 0.17087038 0.16278021 0.16355667 0.15842204\n",
      " 0.14755166 0.15233563 0.1591985  0.1463995  0.14584847 0.15168441\n",
      " 0.15125861 0.14922981 0.13763306 0.14036318 0.12513463 0.12455855\n",
      " 0.14226675 0.12726362 0.12804008 0.13184721 0.14822793 0.12505949\n",
      " 0.12633688 0.11326237 0.11939887 0.09933626 0.08946775 0.10086412\n",
      " 0.09693175 0.10619912 0.08510958 0.07641828 0.07701941 0.09084534\n",
      " 0.08395742 0.08435817 0.09252348 0.107201   0.10519724 0.10487163\n",
      " 0.11113338 0.096531   0.09843456 0.10487163 0.10299311 0.08966813\n",
      " 0.07586725 0.0627176  0.06492173 0.07160927 0.05815905 0.06191609\n",
      " 0.07271133 0.07140889 0.0787226  0.08721353 0.08721353 0.07664371\n",
      " 0.08112711 0.07484033 0.0803757  0.08696306 0.09036944 0.09896055\n",
      " 0.10068879 0.0952536  0.09773325 0.09680651 0.10427051 0.10852849\n",
      " 0.10760789 0.10979667 0.11195576 0.11407009 0.11613671 0.11815735\n",
      " 0.12013493 0.12207193 0.1239703  0.12583144 0.1276565  0.12944654\n",
      " 0.13120246 0.13292533 0.13461623 0.13627622 0.13790628 0.13950746\n",
      " 0.14108077 0.14262711 0.14414732 0.14564224]\n",
      "22 day output [[0.14711256]]\n",
      "23 day input [0.17001879 0.17222292 0.1806387  0.17765811 0.16974327 0.16899186\n",
      " 0.17933626 0.17087038 0.16278021 0.16355667 0.15842204 0.14755166\n",
      " 0.15233563 0.1591985  0.1463995  0.14584847 0.15168441 0.15125861\n",
      " 0.14922981 0.13763306 0.14036318 0.12513463 0.12455855 0.14226675\n",
      " 0.12726362 0.12804008 0.13184721 0.14822793 0.12505949 0.12633688\n",
      " 0.11326237 0.11939887 0.09933626 0.08946775 0.10086412 0.09693175\n",
      " 0.10619912 0.08510958 0.07641828 0.07701941 0.09084534 0.08395742\n",
      " 0.08435817 0.09252348 0.107201   0.10519724 0.10487163 0.11113338\n",
      " 0.096531   0.09843456 0.10487163 0.10299311 0.08966813 0.07586725\n",
      " 0.0627176  0.06492173 0.07160927 0.05815905 0.06191609 0.07271133\n",
      " 0.07140889 0.0787226  0.08721353 0.08721353 0.07664371 0.08112711\n",
      " 0.07484033 0.0803757  0.08696306 0.09036944 0.09896055 0.10068879\n",
      " 0.0952536  0.09773325 0.09680651 0.10427051 0.10852849 0.10760789\n",
      " 0.10979667 0.11195576 0.11407009 0.11613671 0.11815735 0.12013493\n",
      " 0.12207193 0.1239703  0.12583144 0.1276565  0.12944654 0.13120246\n",
      " 0.13292533 0.13461623 0.13627622 0.13790628 0.13950746 0.14108077\n",
      " 0.14262711 0.14414732 0.14564224 0.14711256]\n"
     ]
    },
    {
     "name": "stdout",
     "output_type": "stream",
     "text": [
      "23 day output [[0.14855897]]\n",
      "24 day input [0.17222292 0.1806387  0.17765811 0.16974327 0.16899186 0.17933626\n",
      " 0.17087038 0.16278021 0.16355667 0.15842204 0.14755166 0.15233563\n",
      " 0.1591985  0.1463995  0.14584847 0.15168441 0.15125861 0.14922981\n",
      " 0.13763306 0.14036318 0.12513463 0.12455855 0.14226675 0.12726362\n",
      " 0.12804008 0.13184721 0.14822793 0.12505949 0.12633688 0.11326237\n",
      " 0.11939887 0.09933626 0.08946775 0.10086412 0.09693175 0.10619912\n",
      " 0.08510958 0.07641828 0.07701941 0.09084534 0.08395742 0.08435817\n",
      " 0.09252348 0.107201   0.10519724 0.10487163 0.11113338 0.096531\n",
      " 0.09843456 0.10487163 0.10299311 0.08966813 0.07586725 0.0627176\n",
      " 0.06492173 0.07160927 0.05815905 0.06191609 0.07271133 0.07140889\n",
      " 0.0787226  0.08721353 0.08721353 0.07664371 0.08112711 0.07484033\n",
      " 0.0803757  0.08696306 0.09036944 0.09896055 0.10068879 0.0952536\n",
      " 0.09773325 0.09680651 0.10427051 0.10852849 0.10760789 0.10979667\n",
      " 0.11195576 0.11407009 0.11613671 0.11815735 0.12013493 0.12207193\n",
      " 0.1239703  0.12583144 0.1276565  0.12944654 0.13120246 0.13292533\n",
      " 0.13461623 0.13627622 0.13790628 0.13950746 0.14108077 0.14262711\n",
      " 0.14414732 0.14564224 0.14711256 0.14855897]\n",
      "24 day output [[0.14998214]]\n",
      "25 day input [0.1806387  0.17765811 0.16974327 0.16899186 0.17933626 0.17087038\n",
      " 0.16278021 0.16355667 0.15842204 0.14755166 0.15233563 0.1591985\n",
      " 0.1463995  0.14584847 0.15168441 0.15125861 0.14922981 0.13763306\n",
      " 0.14036318 0.12513463 0.12455855 0.14226675 0.12726362 0.12804008\n",
      " 0.13184721 0.14822793 0.12505949 0.12633688 0.11326237 0.11939887\n",
      " 0.09933626 0.08946775 0.10086412 0.09693175 0.10619912 0.08510958\n",
      " 0.07641828 0.07701941 0.09084534 0.08395742 0.08435817 0.09252348\n",
      " 0.107201   0.10519724 0.10487163 0.11113338 0.096531   0.09843456\n",
      " 0.10487163 0.10299311 0.08966813 0.07586725 0.0627176  0.06492173\n",
      " 0.07160927 0.05815905 0.06191609 0.07271133 0.07140889 0.0787226\n",
      " 0.08721353 0.08721353 0.07664371 0.08112711 0.07484033 0.0803757\n",
      " 0.08696306 0.09036944 0.09896055 0.10068879 0.0952536  0.09773325\n",
      " 0.09680651 0.10427051 0.10852849 0.10760789 0.10979667 0.11195576\n",
      " 0.11407009 0.11613671 0.11815735 0.12013493 0.12207193 0.1239703\n",
      " 0.12583144 0.1276565  0.12944654 0.13120246 0.13292533 0.13461623\n",
      " 0.13627622 0.13790628 0.13950746 0.14108077 0.14262711 0.14414732\n",
      " 0.14564224 0.14711256 0.14855897 0.14998214]\n",
      "25 day output [[0.15138265]]\n",
      "26 day input [0.17765811 0.16974327 0.16899186 0.17933626 0.17087038 0.16278021\n",
      " 0.16355667 0.15842204 0.14755166 0.15233563 0.1591985  0.1463995\n",
      " 0.14584847 0.15168441 0.15125861 0.14922981 0.13763306 0.14036318\n",
      " 0.12513463 0.12455855 0.14226675 0.12726362 0.12804008 0.13184721\n",
      " 0.14822793 0.12505949 0.12633688 0.11326237 0.11939887 0.09933626\n",
      " 0.08946775 0.10086412 0.09693175 0.10619912 0.08510958 0.07641828\n",
      " 0.07701941 0.09084534 0.08395742 0.08435817 0.09252348 0.107201\n",
      " 0.10519724 0.10487163 0.11113338 0.096531   0.09843456 0.10487163\n",
      " 0.10299311 0.08966813 0.07586725 0.0627176  0.06492173 0.07160927\n",
      " 0.05815905 0.06191609 0.07271133 0.07140889 0.0787226  0.08721353\n",
      " 0.08721353 0.07664371 0.08112711 0.07484033 0.0803757  0.08696306\n",
      " 0.09036944 0.09896055 0.10068879 0.0952536  0.09773325 0.09680651\n",
      " 0.10427051 0.10852849 0.10760789 0.10979667 0.11195576 0.11407009\n",
      " 0.11613671 0.11815735 0.12013493 0.12207193 0.1239703  0.12583144\n",
      " 0.1276565  0.12944654 0.13120246 0.13292533 0.13461623 0.13627622\n",
      " 0.13790628 0.13950746 0.14108077 0.14262711 0.14414732 0.14564224\n",
      " 0.14711256 0.14855897 0.14998214 0.15138265]\n",
      "26 day output [[0.15276101]]\n",
      "27 day input [0.16974327 0.16899186 0.17933626 0.17087038 0.16278021 0.16355667\n",
      " 0.15842204 0.14755166 0.15233563 0.1591985  0.1463995  0.14584847\n",
      " 0.15168441 0.15125861 0.14922981 0.13763306 0.14036318 0.12513463\n",
      " 0.12455855 0.14226675 0.12726362 0.12804008 0.13184721 0.14822793\n",
      " 0.12505949 0.12633688 0.11326237 0.11939887 0.09933626 0.08946775\n",
      " 0.10086412 0.09693175 0.10619912 0.08510958 0.07641828 0.07701941\n",
      " 0.09084534 0.08395742 0.08435817 0.09252348 0.107201   0.10519724\n",
      " 0.10487163 0.11113338 0.096531   0.09843456 0.10487163 0.10299311\n",
      " 0.08966813 0.07586725 0.0627176  0.06492173 0.07160927 0.05815905\n",
      " 0.06191609 0.07271133 0.07140889 0.0787226  0.08721353 0.08721353\n",
      " 0.07664371 0.08112711 0.07484033 0.0803757  0.08696306 0.09036944\n",
      " 0.09896055 0.10068879 0.0952536  0.09773325 0.09680651 0.10427051\n",
      " 0.10852849 0.10760789 0.10979667 0.11195576 0.11407009 0.11613671\n",
      " 0.11815735 0.12013493 0.12207193 0.1239703  0.12583144 0.1276565\n",
      " 0.12944654 0.13120246 0.13292533 0.13461623 0.13627622 0.13790628\n",
      " 0.13950746 0.14108077 0.14262711 0.14414732 0.14564224 0.14711256\n",
      " 0.14855897 0.14998214 0.15138265 0.15276101]\n",
      "27 day output [[0.15411784]]\n",
      "28 day input [0.16899186 0.17933626 0.17087038 0.16278021 0.16355667 0.15842204\n",
      " 0.14755166 0.15233563 0.1591985  0.1463995  0.14584847 0.15168441\n",
      " 0.15125861 0.14922981 0.13763306 0.14036318 0.12513463 0.12455855\n",
      " 0.14226675 0.12726362 0.12804008 0.13184721 0.14822793 0.12505949\n",
      " 0.12633688 0.11326237 0.11939887 0.09933626 0.08946775 0.10086412\n",
      " 0.09693175 0.10619912 0.08510958 0.07641828 0.07701941 0.09084534\n",
      " 0.08395742 0.08435817 0.09252348 0.107201   0.10519724 0.10487163\n",
      " 0.11113338 0.096531   0.09843456 0.10487163 0.10299311 0.08966813\n",
      " 0.07586725 0.0627176  0.06492173 0.07160927 0.05815905 0.06191609\n",
      " 0.07271133 0.07140889 0.0787226  0.08721353 0.08721353 0.07664371\n",
      " 0.08112711 0.07484033 0.0803757  0.08696306 0.09036944 0.09896055\n",
      " 0.10068879 0.0952536  0.09773325 0.09680651 0.10427051 0.10852849\n",
      " 0.10760789 0.10979667 0.11195576 0.11407009 0.11613671 0.11815735\n",
      " 0.12013493 0.12207193 0.1239703  0.12583144 0.1276565  0.12944654\n",
      " 0.13120246 0.13292533 0.13461623 0.13627622 0.13790628 0.13950746\n",
      " 0.14108077 0.14262711 0.14414732 0.14564224 0.14711256 0.14855897\n",
      " 0.14998214 0.15138265 0.15276101 0.15411784]\n",
      "28 day output [[0.15545358]]\n",
      "29 day input [0.17933626 0.17087038 0.16278021 0.16355667 0.15842204 0.14755166\n",
      " 0.15233563 0.1591985  0.1463995  0.14584847 0.15168441 0.15125861\n",
      " 0.14922981 0.13763306 0.14036318 0.12513463 0.12455855 0.14226675\n",
      " 0.12726362 0.12804008 0.13184721 0.14822793 0.12505949 0.12633688\n",
      " 0.11326237 0.11939887 0.09933626 0.08946775 0.10086412 0.09693175\n",
      " 0.10619912 0.08510958 0.07641828 0.07701941 0.09084534 0.08395742\n",
      " 0.08435817 0.09252348 0.107201   0.10519724 0.10487163 0.11113338\n",
      " 0.096531   0.09843456 0.10487163 0.10299311 0.08966813 0.07586725\n",
      " 0.0627176  0.06492173 0.07160927 0.05815905 0.06191609 0.07271133\n",
      " 0.07140889 0.0787226  0.08721353 0.08721353 0.07664371 0.08112711\n",
      " 0.07484033 0.0803757  0.08696306 0.09036944 0.09896055 0.10068879\n",
      " 0.0952536  0.09773325 0.09680651 0.10427051 0.10852849 0.10760789\n",
      " 0.10979667 0.11195576 0.11407009 0.11613671 0.11815735 0.12013493\n",
      " 0.12207193 0.1239703  0.12583144 0.1276565  0.12944654 0.13120246\n",
      " 0.13292533 0.13461623 0.13627622 0.13790628 0.13950746 0.14108077\n",
      " 0.14262711 0.14414732 0.14564224 0.14711256 0.14855897 0.14998214\n",
      " 0.15138265 0.15276101 0.15411784 0.15545358]\n",
      "29 day output [[0.15676883]]\n",
      "[[0.1076078861951828], [0.1097966656088829], [0.11195576190948486], [0.11407008767127991], [0.11613670736551285], [0.11815734952688217], [0.12013492733240128], [0.12207192927598953], [0.12397029995918274], [0.12583144009113312], [0.1276565045118332], [0.12944653630256653], [0.13120245933532715], [0.13292533159255981], [0.13461622595787048], [0.1362762153148651], [0.1379062831401825], [0.139507457613945], [0.14108076691627502], [0.14262710511684418], [0.14414732158184052], [0.1456422358751297], [0.14711256325244904], [0.14855897426605225], [0.14998213946819305], [0.1513826549053192], [0.15276101231575012], [0.15411783754825592], [0.15545357763767242], [0.1567688286304474]]\n"
     ]
    }
   ],
   "source": [
    "#Prediction for next 30 days\n",
    "lst_output= []\n",
    "n_steps= 100\n",
    "i=0\n",
    "while(i<30):\n",
    "    if(len(temp_input)> 100):\n",
    "        x_input= np.array(temp_input[1:])\n",
    "        print(\"{} day input {}\".format(i, x_input))\n",
    "        x_input= x_input.reshape(1, -1)\n",
    "        x_input= x_input.reshape((1, n_steps, 1))\n",
    "        #Print(x_input)\n",
    "        yhat= model.predict(x_input, verbose= 0)\n",
    "        print(\"{} day output {}\".format(i, yhat))\n",
    "        temp_input.extend(yhat[0].tolist())\n",
    "        temp_input= temp_input[1: ]\n",
    "        #Print(temp_input)\n",
    "        lst_output.extend(yhat.tolist())\n",
    "        i= i+1\n",
    "    else:\n",
    "        x_input= x_input.reshape((1, n_steps, 1))\n",
    "        yhat= model.predict(x_input, verbose= 0)\n",
    "        print(yhat[0])\n",
    "        temp_input.extend(yhat[0].tolist())\n",
    "        print(len(temp_input))\n",
    "        lst_output.extend(yhat.tolist())\n",
    "        i= i+1\n",
    "        \n",
    "print(lst_output)"
   ]
  },
  {
   "cell_type": "code",
   "execution_count": 36,
   "id": "a7aa17f9",
   "metadata": {},
   "outputs": [],
   "source": [
    "day_new= np.arange(1, 101)\n",
    "day_pred= np.arange(101, 131)"
   ]
  },
  {
   "cell_type": "code",
   "execution_count": 37,
   "id": "356e67a1",
   "metadata": {},
   "outputs": [
    {
     "data": {
      "text/plain": [
       "1257"
      ]
     },
     "execution_count": 37,
     "metadata": {},
     "output_type": "execute_result"
    }
   ],
   "source": [
    "len(df2)"
   ]
  },
  {
   "cell_type": "code",
   "execution_count": 45,
   "id": "9a309ec1",
   "metadata": {},
   "outputs": [],
   "source": [
    "df3=df2.tolist()\n",
    "df3.extend(lst_output)"
   ]
  },
  {
   "cell_type": "code",
   "execution_count": 49,
   "id": "7520b003",
   "metadata": {},
   "outputs": [
    {
     "data": {
      "image/png": "[encoded data removed]",
      "text/plain": [
       "<Figure size 432x288 with 1 Axes>"
      ]
     },
     "metadata": {
      "needs_background": "light"
     },
     "output_type": "display_data"
    }
   ],
   "source": [
    "plt.plot(day_new, scaler.inverse_transform(df2[1157: ]))\n",
    "plt.plot(day_pred, scaler.inverse_transform(lst_output))\n",
    "plt.show()"
   ]
  },
  {
   "cell_type": "code",
   "execution_count": 40,
   "id": "2ab39726",
   "metadata": {},
   "outputs": [],
   "source": [
    "## Orange line shows the predictions for next 30-days"
   ]
  },
  {
   "cell_type": "code",
   "execution_count": 51,
   "id": "74dbdb1c",
   "metadata": {},
   "outputs": [
    {
     "data": {
      "text/plain": [
       "[<matplotlib.lines.Line2D at 0x22980127280>]"
      ]
     },
     "execution_count": 51,
     "metadata": {},
     "output_type": "execute_result"
    },
    {
     "data": {
      "image/png": "[encoded data removed]",
      "text/plain": [
       "<Figure size 432x288 with 1 Axes>"
      ]
     },
     "metadata": {
      "needs_background": "light"
     },
     "output_type": "display_data"
    }
   ],
   "source": [
    "df3=df2.tolist()\n",
    "df3.extend(lst_output)\n",
    "plt.plot(df3[1200:])"
   ]
  },
  {
   "cell_type": "code",
   "execution_count": 53,
   "id": "6cc10aea",
   "metadata": {},
   "outputs": [
    {
     "data": {
      "image/png": "[encoded data removed]",
      "text/plain": [
       "<Figure size 432x288 with 1 Axes>"
      ]
     },
     "metadata": {
      "needs_background": "light"
     },
     "output_type": "display_data"
    }
   ],
   "source": [
    "df3=scaler.inverse_transform(df3).tolist()\n",
    "plt.plot(df3)\n",
    "plt.show()"
   ]
  }
 ],
 "metadata": {
  "kernelspec": {
   "display_name": "Python 3 (ipykernel)",
   "language": "python",
   "name": "python3"
  },
  "language_info": {
   "codemirror_mode": {
    "name": "ipython",
    "version": 3
   },
   "file_extension": ".py",
   "mimetype": "text/x-python",
   "name": "python",
   "nbconvert_exporter": "python",
   "pygments_lexer": "ipython3",
   "version": "3.9.12"
  }
 },
 "nbformat": 4,
 "nbformat_minor": 5
}
